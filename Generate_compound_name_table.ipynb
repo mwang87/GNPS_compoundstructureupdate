{
 "cells": [
  {
   "cell_type": "code",
   "execution_count": 9,
   "metadata": {},
   "outputs": [],
   "source": [
    "import pandas as pd\n",
    "import requests\n",
    "import json"
   ]
  },
  {
   "cell_type": "code",
   "execution_count": 10,
   "metadata": {},
   "outputs": [],
   "source": [
    "GNPS_SERVER_URL = \"gnps.ucsd.edu\"\n",
    "\n",
    "#Returns the library spectra as a list\n",
    "def pulldown_library(library_name):\n",
    "    SERVER_URL = \"http://%s/ProteoSAFe/LibraryServlet?library=\" % (GNPS_SERVER_URL)\n",
    "    target_url = SERVER_URL + library_name\n",
    "    r = requests.get(target_url)\n",
    "    json_text = r.text\n",
    "    spectra_object = json.loads(json_text)\n",
    "\n",
    "    return spectra_object[\"spectra\"]"
   ]
  },
  {
   "cell_type": "code",
   "execution_count": 11,
   "metadata": {},
   "outputs": [],
   "source": [
    "spectra_list = pulldown_library(\"GNPS-LIBRARY\")"
   ]
  },
  {
   "cell_type": "code",
   "execution_count": 15,
   "metadata": {},
   "outputs": [],
   "source": [
    "df = pd.DataFrame(spectra_list)\n",
    "df.to_csv(\"data/gnps_library_table.tsv\", index=False, sep=\"\\t\")"
   ]
  },
  {
   "cell_type": "code",
   "execution_count": null,
   "metadata": {},
   "outputs": [],
   "source": []
  }
 ],
 "metadata": {
  "kernelspec": {
   "display_name": "Python 3",
   "language": "python",
   "name": "python3"
  },
  "language_info": {
   "codemirror_mode": {
    "name": "ipython",
    "version": 3
   },
   "file_extension": ".py",
   "mimetype": "text/x-python",
   "name": "python",
   "nbconvert_exporter": "python",
   "pygments_lexer": "ipython3",
   "version": "3.6.7"
  }
 },
 "nbformat": 4,
 "nbformat_minor": 2
}
